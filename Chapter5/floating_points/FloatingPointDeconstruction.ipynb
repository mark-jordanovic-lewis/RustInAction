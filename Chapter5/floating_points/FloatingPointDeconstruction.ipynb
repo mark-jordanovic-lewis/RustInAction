{
 "cells": [
  {
   "cell_type": "code",
   "execution_count": 11,
   "id": "21f14934",
   "metadata": {},
   "outputs": [],
   "source": [
    "const BIAS: i32 = 127;\n",
    "const RADIX: f32 = 2.0;"
   ]
  },
  {
   "cell_type": "code",
   "execution_count": null,
   "id": "aca7a2be",
   "metadata": {},
   "outputs": [],
   "source": [
    "fn to_parts(n: f32) -> (u32, u32, u32) {\n",
    "    let bits = n.to_bits();\n",
    "    let sign = (bits >> 31) & 1;\n",
    "    let exponent = (bits >> 23) & 0xff;\n",
    "    let fraction = bits & 0x7fffff;\n",
    "    (sign, exponent, fraction)\n",
    "}"
   ]
  },
  {
   "cell_type": "code",
   "execution_count": 12,
   "id": "9da91be2",
   "metadata": {},
   "outputs": [],
   "source": [
    "fn decode(sign: u32, exponent: u32, fraction: u32) -> (f32, f32, f32) {\n",
    "    let sign = (-1.0_f32).powf(sign as f32);\n",
    "    let exponent = (exponent as i32) - BIAS;\n",
    "    let exponent = RADIX.powf(exponent as f32);\n",
    "    let mut mantissa = 1.0_f32;\n",
    "\n",
    "    for i in 0..23 {\n",
    "        let mask = 1 << i;\n",
    "        let one_at_bit_i = fraction & mask;\n",
    "\n",
    "        if one_at_bit_i != 0 {\n",
    "            let i_ = i as f32;\n",
    "            let weight = 2_f32.powf(i_ - 23.0);\n",
    "            mantissa += weight;\n",
    "        }\n",
    "    }\n",
    "    (sign, exponent, mantissa)\n",
    "}"
   ]
  },
  {
   "cell_type": "code",
   "execution_count": 15,
   "id": "4003d17c",
   "metadata": {},
   "outputs": [],
   "source": [
    "fn from_parts(sign: f32, exponent: f32, mantissa: f32) -> f32 {\n",
    "    sign * exponent * mantissa\n",
    "}"
   ]
  },
  {
   "cell_type": "code",
   "execution_count": 16,
   "id": "d7f39245",
   "metadata": {},
   "outputs": [],
   "source": [
    "let n: f32 = 42.42;\n",
    "let (sign, exponent, fraction) = to_parts(n);\n",
    "let (sign_, exponent_, mantissa) = decode(sign, exponent,  fraction);\n",
    "let n_ = from_parts(sign_, exponent_, mantissa);"
   ]
  },
  {
   "cell_type": "code",
   "execution_count": 18,
   "id": "0e13e216",
   "metadata": {},
   "outputs": [
    {
     "name": "stdout",
     "output_type": "stream",
     "text": [
      "42.42 -> 42.42\n",
      "field\t | as_bits\t\t\t| as_real\n",
      "sign\t | 0\t\t\t\t| 1\n",
      "exponent | 10000100\t\t\t| 32\n",
      "mantissa | 01010011010111000010100\t| 1.325625\n"
     ]
    }
   ],
   "source": [
    "println!(\"{} -> {}\", n, n_);\n",
    "println!(\"field\\t | as_bits\\t\\t\\t| as_real\");\n",
    "println!(\"sign\\t | {:01b}\\t\\t\\t\\t| {}\", sign, sign_);\n",
    "println!(\"exponent | {:08b}\\t\\t\\t| {}\", exponent, exponent_);\n",
    "println!(\"mantissa | {:023b}\\t| {}\", fraction, mantissa);"
   ]
  },
  {
   "cell_type": "code",
   "execution_count": null,
   "id": "edba5dde",
   "metadata": {},
   "outputs": [],
   "source": []
  }
 ],
 "metadata": {
  "kernelspec": {
   "display_name": "Rust",
   "language": "rust",
   "name": "rust"
  },
  "language_info": {
   "codemirror_mode": "rust",
   "file_extension": ".rs",
   "mimetype": "text/rust",
   "name": "Rust",
   "pygment_lexer": "rust",
   "version": ""
  }
 },
 "nbformat": 4,
 "nbformat_minor": 5
}
