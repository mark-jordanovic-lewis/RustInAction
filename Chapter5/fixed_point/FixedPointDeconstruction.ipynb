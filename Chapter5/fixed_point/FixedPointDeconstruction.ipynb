{
 "cells": [
  {
   "cell_type": "code",
   "execution_count": 5,
   "id": "f7ef1cd4",
   "metadata": {},
   "outputs": [],
   "source": [
    "#[derive(Debug, Clone, Copy, PartialEq, Eq)]\n",
    "pub struct Q7(i8);\n",
    "\n",
    "impl From<f64> for Q7 {\n",
    "    fn from(n: f64) -> Q7 {\n",
    "        if n >= 1.0 {\n",
    "            Q7(127)\n",
    "        } else if n <= -1.0 {\n",
    "            Q7(-127)\n",
    "        } else {\n",
    "            Q7((n*128.0) as i8)\n",
    "        }\n",
    "    }\n",
    "}\n",
    "\n",
    "impl From<f32> for Q7 {\n",
    "    fn from(n: f32) -> Q7 {\n",
    "        Q7::from(n as f64)\n",
    "    }\n",
    "}\n",
    "\n",
    "impl From<Q7> for f64 {\n",
    "    fn from(n: Q7) -> f64 {\n",
    "        (n.0 as f64) * 2_f64.powf(-7.0)\n",
    "    }\n",
    "}\n",
    "\n",
    "impl From<Q7> for f32 {\n",
    "    fn from(n: Q7) -> f32 {\n",
    "      f64::from(n) as f32  \n",
    "    }\n",
    "}"
   ]
  },
  {
   "cell_type": "code",
   "execution_count": null,
   "id": "2b59af7e",
   "metadata": {},
   "outputs": [],
   "source": []
  }
 ],
 "metadata": {
  "kernelspec": {
   "display_name": "Rust",
   "language": "rust",
   "name": "rust"
  },
  "language_info": {
   "codemirror_mode": "rust",
   "file_extension": ".rs",
   "mimetype": "text/rust",
   "name": "Rust",
   "pygment_lexer": "rust",
   "version": ""
  }
 },
 "nbformat": 4,
 "nbformat_minor": 5
}
