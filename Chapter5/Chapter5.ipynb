{
 "cells": [
  {
   "cell_type": "code",
   "execution_count": 22,
   "id": "19140c23",
   "metadata": {},
   "outputs": [
    {
     "name": "stdout",
     "output_type": "stream",
     "text": [
      "0.99609375\n"
     ]
    }
   ],
   "source": [
    "// random generator\n",
    "fn mock_rand(n:u8) -> f32 {\n",
    "    let base: u32 = 0b0_01111110_00000000000000000000000;\n",
    "    let large_n = (n as u32) << 15;\n",
    "    let f32_bits = base | large_n;\n",
    "    let m = f32::from_bits(f32_bits);\n",
    "    2.0 * (m - 0.5) as f32\n",
    "}\n",
    "\n",
    "println!(\"{:?}\", mock_rand(0xff));"
   ]
  },
  {
   "cell_type": "code",
   "execution_count": 24,
   "id": "0d13fd51",
   "metadata": {},
   "outputs": [],
   "source": [
    "// extracting values from an op code\n",
    "let opcode: u16 = 0x71E4;\n",
    "\n",
    "let c   = (opcode & 0xF000) >>12;\n",
    "let x   = (opcode & 0x0F00) >> 8;\n",
    "let y   = (opcode & 0x00F0) >> 4;\n",
    "let d   = (opcode & 0x000F) >> 0;\n",
    "let nnn = (opcode & 0x0FFF);\n",
    "let kk  = (opcode & 0x00FF);\n",
    "\n",
    "assert_eq!(c, 0x7);\n",
    "assert_eq!(x, 0x1);\n",
    "assert_eq!(y, 0xE);\n",
    "assert_eq!(d, 0x4);\n",
    "assert_eq!(nnn, 0x1E4);\n",
    "assert_eq!(kk, 0xE4);"
   ]
  },
  {
   "cell_type": "code",
   "execution_count": null,
   "id": "d57be860",
   "metadata": {},
   "outputs": [],
   "source": []
  }
 ],
 "metadata": {
  "kernelspec": {
   "display_name": "Rust",
   "language": "rust",
   "name": "rust"
  },
  "language_info": {
   "codemirror_mode": "rust",
   "file_extension": ".rs",
   "mimetype": "text/rust",
   "name": "Rust",
   "pygment_lexer": "rust",
   "version": ""
  }
 },
 "nbformat": 4,
 "nbformat_minor": 5
}
