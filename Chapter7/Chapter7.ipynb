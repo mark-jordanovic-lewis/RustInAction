{
 "cells": [
  {
   "cell_type": "code",
   "execution_count": null,
   "id": "a1f8b4e0",
   "metadata": {},
   "outputs": [],
   "source": [
    "# Serialise to multiple formats\n",
    "\n",
    "use bincode::serialize as to_bincode;\n",
    "use serde_cbor::to_vec as to_cbor;\n",
    "use serde_json::to_string as to_json;\n",
    "use serde_derive::Serialize;\n",
    "\n",
    "#[derive(Serialize)]\n",
    "struct City {\n",
    "    name: String,\n",
    "    population: usize,\n",
    "    latitude: f64,\n",
    "    longitude: f64,\n",
    "}"
   ]
  },
  {
   "cell_type": "code",
   "execution_count": null,
   "id": "68c4c8eb",
   "metadata": {},
   "outputs": [],
   "source": [
    "let calibar = City {\n",
    "    name: \"Calibar\".into(),\n",
    "    population: 470_000,\n",
    "    latitude: 4.95,\n",
    "    longitude: 8.33\n",
    "}\n",
    "\n",
    "let as_json = to_json(&calibar).unwrap();\n",
    "let as_cbor = to_cbor(&calibar).unwrap();\n",
    "let as_binc = to_bincode(&calibar).unwrap();\n",
    "\n",
    "println!(\"json:    {}\", &as_json);\n",
    "println!(\"cbor:    {}\", &as_cbor);\n",
    "println!(\"bincode: {}\", &as_binc);\n",
    "println!(\"json(utf-8)     {}\", String::from_utf8_lossy(as_json.as_bytes()));\n",
    "println!(\"cbor(utf-8):    {}\", String::from_utf8_lossy(&as_cbor));\n",
    "println!(\"bincode(utf-8): {}\", String::from_utf8_lossy(&as_binc));"
   ]
  },
  {
   "cell_type": "code",
   "execution_count": null,
   "id": "bbe5d1c8",
   "metadata": {},
   "outputs": [],
   "source": []
  }
 ],
 "metadata": {
  "kernelspec": {
   "display_name": "Rust",
   "language": "rust",
   "name": "rust"
  },
  "language_info": {
   "codemirror_mode": "rust",
   "file_extension": ".rs",
   "mimetype": "text/rust",
   "name": "Rust",
   "pygment_lexer": "rust",
   "version": ""
  }
 },
 "nbformat": 4,
 "nbformat_minor": 5
}
