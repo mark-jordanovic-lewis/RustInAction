{
 "cells": [
  {
   "cell_type": "code",
   "execution_count": 5,
   "id": "405db4f7",
   "metadata": {},
   "outputs": [],
   "source": [
    "use std::mem::size_of;\n",
    "\n",
    "static B: [u8; 10] = [99, 97, 114, 114, 121, 116, 111, 119, 101, 108];\n",
    "static C: [u8; 11] = [116, 104, 97, 110, 107, 115, 102, 105, 115, 104, 0];\n",
    "\n",
    "let a = 42;\n",
    "let b = &B;\n",
    "let c = Box::new(C);"
   ]
  },
  {
   "cell_type": "code",
   "execution_count": 6,
   "id": "a9bcff4b",
   "metadata": {},
   "outputs": [
    {
     "name": "stdout",
     "output_type": "stream",
     "text": [
      "a (an unsigned integer):\n",
      "  location: 0x7ffc5d5fd6cc\n",
      "  size: 8 bytes\n",
      "  value: 42\n",
      "\n"
     ]
    }
   ],
   "source": [
    "println!(\"a (an unsigned integer):\");\n",
    "println!(\"  location: {:p}\", &a);\n",
    "println!(\"  size: {:?} bytes\", size_of::<usize>());\n",
    "println!(\"  value: {:?}\", a);\n",
    "println!();"
   ]
  },
  {
   "cell_type": "code",
   "execution_count": 7,
   "id": "b4bbbf39",
   "metadata": {},
   "outputs": [
    {
     "name": "stdout",
     "output_type": "stream",
     "text": [
      "b (a reference to B):\n",
      "  location: 0x7ffc5d5fd710\n",
      "  size: 8 bytes\n",
      "  value: [99, 97, 114, 114, 121, 116, 111, 119, 101, 108]\n",
      "\n",
      "B (an array of 10 bytes):\n",
      "  location: 0x7fd81b872000\n",
      "  size: 10 bytes\n",
      "  value: 42\n",
      "\n"
     ]
    }
   ],
   "source": [
    "println!(\"b (a reference to B):\");\n",
    "println!(\"  location: {:p}\", &b);\n",
    "println!(\"  size: {:?} bytes\", size_of::<&[u8; 10]>());\n",
    "println!(\"  value: {:?}\", b);\n",
    "println!();\n",
    "println!(\"B (an array of 10 bytes):\");\n",
    "println!(\"  location: {:p}\", &B);\n",
    "println!(\"  size: {:?} bytes\", size_of::<[u8; 10]>());\n",
    "println!(\"  value: {:?}\", a);\n",
    "println!();"
   ]
  },
  {
   "cell_type": "code",
   "execution_count": 8,
   "id": "f44696c7",
   "metadata": {},
   "outputs": [
    {
     "name": "stdout",
     "output_type": "stream",
     "text": [
      "c (a 'box' for C):\n",
      "  location: 0x7ffc5d5fd700\n",
      "  size: 16 bytes\n",
      "  value: 42\n",
      "\n",
      "C (an array of 10 bytes):\n",
      "  location: 0x7fd81b869000\n",
      "  size: 11 bytes\n",
      "  value: [116, 104, 97, 110, 107, 115, 102, 105, 115, 104, 0]\n",
      "\n"
     ]
    }
   ],
   "source": [
    "println!(\"c (a 'box' for C):\");\n",
    "println!(\"  location: {:p}\", &c);\n",
    "println!(\"  size: {:?} bytes\", size_of::<Box<[u8]>>());\n",
    "println!(\"  value: {:?}\", a);\n",
    "println!();\n",
    "println!(\"C (an array of 10 bytes):\");\n",
    "println!(\"  location: {:p}\", &C);\n",
    "println!(\"  size: {:?} bytes\", size_of::<[u8; 11]>());\n",
    "println!(\"  value: {:?}\", C);\n",
    "println!();"
   ]
  },
  {
   "cell_type": "code",
   "execution_count": 9,
   "id": "febf5254",
   "metadata": {},
   "outputs": [
    {
     "name": "stdout",
     "output_type": "stream",
     "text": [
      "a: 42, b: carrytowel, c: thanksfish\n"
     ]
    }
   ],
   "source": [
    "use std::borrow::Cow; // Cow == Copy On Write\n",
    "use std::ffi::CStr;\n",
    "use std::os::raw::c_char;\n",
    "\n",
    "// use 'a' from above\n",
    "let b:String;\n",
    "let c: Cow<str>;\n",
    "unsafe {\n",
    "    let b_ptr = &B as *const u8 as *mut u8; // double cast to get to a mutable raw pointer\n",
    "    b = String::from_raw_parts(b_ptr, 10, 10);\n",
    "    let c_ptr = &C as *const u8 as *const c_char; // double cast to go u8 -> i8 (ASCII std upheld by us above)\n",
    "    c = CStr::from_ptr(c_ptr).to_string_lossy();\n",
    "}\n",
    "println!(\"a: {}, b: {}, c: {}\", a, b, c);"
   ]
  },
  {
   "cell_type": "code",
   "execution_count": 11,
   "id": "51976d25",
   "metadata": {},
   "outputs": [
    {
     "name": "stdout",
     "output_type": "stream",
     "text": [
      "3 3\n"
     ]
    }
   ],
   "source": [
    "use std::mem::drop;\n",
    "\n",
    "// allocate memory on the heap and store a pointer to it.\n",
    "let box_a = Box::new(1);\n",
    "let box_b = Box::new(1);\n",
    "let box_c = Box::new(1);\n",
    "\n",
    "\n",
    "let result_1 = *box_a + *box_b + *box_c; // dereference pointer to access memory\n",
    "drop(box_a); // remove allocation on the heap\n",
    "\n",
    "let box_d = Box::new(1);\n",
    "let result_2 = *box_c + *box_b + *box_d;\n",
    "\n",
    "println!(\"{} {}\", result_1, result_2);"
   ]
  }
 ],
 "metadata": {
  "kernelspec": {
   "display_name": "Rust",
   "language": "rust",
   "name": "rust"
  },
  "language_info": {
   "codemirror_mode": "rust",
   "file_extension": ".rs",
   "mimetype": "text/rust",
   "name": "Rust",
   "pygment_lexer": "rust",
   "version": ""
  }
 },
 "nbformat": 4,
 "nbformat_minor": 5
}
